{
 "cells": [
  {
   "cell_type": "markdown",
   "metadata": {},
   "source": [
    "# VPYTHON CODES\n",
    "\n",
    "File containing code for different Vpython scenarios"
   ]
  },
  {
   "cell_type": "markdown",
   "metadata": {},
   "source": [
    "Imports needed"
   ]
  },
  {
   "cell_type": "code",
   "execution_count": 4,
   "metadata": {},
   "outputs": [],
   "source": [
    "from vpython import *\n",
    "from time import *\n",
    "import numpy as np\n"
   ]
  },
  {
   "cell_type": "markdown",
   "metadata": {},
   "source": [
    "Setting up the canvas in use"
   ]
  },
  {
   "cell_type": "code",
   "execution_count": 3,
   "metadata": {},
   "outputs": [
    {
     "data": {
      "text/html": [
       "<div id=\"glowscript\" class=\"glowscript\"></div>"
      ],
      "text/plain": [
       "<IPython.core.display.HTML object>"
      ]
     },
     "metadata": {},
     "output_type": "display_data"
    },
    {
     "data": {
      "application/javascript": "if (typeof Jupyter !== \"undefined\") { window.__context = { glowscript_container: $(\"#glowscript\").removeAttr(\"id\")};}else{ element.textContent = ' ';}",
      "text/plain": [
       "<IPython.core.display.Javascript object>"
      ]
     },
     "metadata": {},
     "output_type": "display_data"
    }
   ],
   "source": [
    "scene = canvas(width=1000, height=800, background=color.gray(0.3))"
   ]
  },
  {
   "cell_type": "markdown",
   "metadata": {},
   "source": [
    "Code to create a ball that changes color every 5 seconds"
   ]
  },
  {
   "cell_type": "code",
   "execution_count": 3,
   "metadata": {},
   "outputs": [
    {
     "ename": "",
     "evalue": "",
     "output_type": "error",
     "traceback": [
      "\u001b[1;31mThe Kernel crashed while executing code in the current cell or a previous cell. \n",
      "\u001b[1;31mPlease review the code in the cell(s) to identify a possible cause of the failure. \n",
      "\u001b[1;31mClick <a href='https://aka.ms/vscodeJupyterKernelCrash'>here</a> for more info. \n",
      "\u001b[1;31mView Jupyter <a href='command:jupyter.viewOutput'>log</a> for further details."
     ]
    }
   ],
   "source": [
    "ball = sphere()\n",
    "sleep(5)\n",
    "ball.color = color.red\n",
    "sleep(5)\n",
    "ball.color = color.blue"
   ]
  },
  {
   "cell_type": "markdown",
   "metadata": {},
   "source": [
    "Code to make a cube with dimensions"
   ]
  },
  {
   "cell_type": "code",
   "execution_count": null,
   "metadata": {},
   "outputs": [],
   "source": [
    "# Making a 3D cube\n",
    "ruler = box(height=.2, width=3, length=30) "
   ]
  },
  {
   "cell_type": "markdown",
   "metadata": {},
   "source": [
    "Code to make a tube with specific radius"
   ]
  },
  {
   "cell_type": "code",
   "execution_count": null,
   "metadata": {
    "slideshow": {
     "slide_type": "notes"
    }
   },
   "outputs": [],
   "source": [
    "tube = cylinder(radius=2)"
   ]
  },
  {
   "cell_type": "markdown",
   "metadata": {},
   "source": [
    "Creating white room with a red marble in the center, using the `pos` parameter"
   ]
  },
  {
   "cell_type": "code",
   "execution_count": null,
   "metadata": {},
   "outputs": [],
   "source": [
    "floor       = box(pos=vector(0,-10,0), color=color.white, length=20, width=20, height=.3)\n",
    "ceiling     = box(pos=vector(0,10,0), color=color.white, length=20, width=20, height=.3)\n",
    "right_wall  = box(pos=vector(10,0,0), color=color.white, length=.2, width=20, height=20)\n",
    "left_wall   = box(pos=vector(-10,0,0), color=color.white, length=.2, width=20, height=20)\n",
    "back_wall   = box(pos=vector(0,0,-10), color=color.white, length=20, width=.3, height=20)\n",
    "\n",
    "marble      = sphere(color=color.red, radius=3)"
   ]
  },
  {
   "cell_type": "markdown",
   "metadata": {},
   "source": [
    "Adding animation onto the marble to make it oscillate left to right in the room"
   ]
  },
  {
   "cell_type": "code",
   "execution_count": null,
   "metadata": {},
   "outputs": [],
   "source": [
    "changeX = 0.1\n",
    "xPos = 0\n",
    "\n",
    "while True:\n",
    "    rate(20) # To change the speed of animation\n",
    "    \n",
    "    xPos = xPos + changeX\n",
    "\n",
    "    if xPos > 10 or xPos < -10:\n",
    "        changeX *= -1\n",
    "\n",
    "    marble.pos = vector(xPos,0,0)\n"
   ]
  },
  {
   "cell_type": "markdown",
   "metadata": {},
   "source": [
    "Parameterizing the dimensions and using `size` attribute"
   ]
  },
  {
   "cell_type": "code",
   "execution_count": null,
   "metadata": {},
   "outputs": [],
   "source": [
    "mRadius = 1\n",
    "wallThickness = .3\n",
    "roomWidth, roomDepth, roomHeight = 20,20,20\n",
    "\n",
    "floor       = box(pos=vector(0,-roomHeight/2,0), color=color.white, size=vector(roomWidth,wallThickness,roomDepth))\n",
    "ceiling     = box(pos=vector(0,roomHeight/2,0),  color=color.white, size=vector(roomWidth,wallThickness,roomDepth))\n",
    "right_wall  = box(pos=vector(roomWidth/2,0,0),  color=color.white, size=vector(wallThickness,roomHeight,roomDepth))\n",
    "left_wall   = box(pos=vector(-roomWidth/2,0,0), color=color.white, size=vector(wallThickness,roomHeight,roomDepth))\n",
    "back_wall   = box(pos=vector(0,0,-roomDepth/2), color=color.white, size=vector(roomWidth,roomHeight,wallThickness))\n",
    "\n",
    "marble      = sphere(color=color.red, radius=mRadius)"
   ]
  },
  {
   "cell_type": "markdown",
   "metadata": {},
   "source": [
    "Adjusting marble animation to be bound within the room, by creating variables to track edge of the ball and wall edges"
   ]
  },
  {
   "cell_type": "code",
   "execution_count": null,
   "metadata": {},
   "outputs": [],
   "source": [
    "xRMEdge = xPos + mRadius\n",
    "RWEdge = roomWidth/2 - wallThickness/2\n",
    "\n",
    "xLMEdge = xPos - mRadius\n",
    "LWEdge = -roomWidth/2 + wallThickness/2\n",
    "\n",
    "if xRMEdge > RWEdge or xLMEdge < LWEdge:\n",
    "    changeX *= -1"
   ]
  },
  {
   "cell_type": "markdown",
   "metadata": {},
   "source": [
    "Adding animation for the ball to bound around throughout the whole room"
   ]
  },
  {
   "cell_type": "code",
   "execution_count": null,
   "metadata": {},
   "outputs": [
    {
     "name": "stdout",
     "output_type": "stream",
     "text": [
      "2\n",
      "a\n"
     ]
    }
   ],
   "source": [
    "xPos, yPos, zPos = 0, 0, 0\n",
    "changeX, changeY, changeZ = .1, .1, .1\n",
    "\n",
    "while True:\n",
    "    rate(30) # To change the speed of animation\n",
    "   \n",
    "    xPos += changeX\n",
    "    yPos += changeY\n",
    "    zPos += changeZ\n",
    "\n",
    "    xRMEdge = xPos + mRadius\n",
    "    xLMEdge = xPos - mRadius\n",
    "    yTMEdge = yPos + mRadius\n",
    "    yBMEdge = yPos - mRadius\n",
    "    zBMEdge = zPos + mRadius\n",
    "    zFMEdge = zPos - mRadius\n",
    "\n",
    "    RWEdge = roomWidth / 2 - wallThickness / 2\n",
    "    LWEdge = -roomWidth / 2 + wallThickness / 2\n",
    "    CEdge = roomHeight / 2 - wallThickness / 2\n",
    "    FlEdge = -roomHeight / 2 + wallThickness / 2\n",
    "    BEdge = roomDepth / 2 + wallThickness / 2\n",
    "    FrEdge = - roomDepth / 2 + wallThickness / 2\n",
    "\n",
    "    if xRMEdge > RWEdge or xLMEdge < LWEdge:\n",
    "            changeX *= -1\n",
    "\n",
    "    if yTMEdge > CEdge or yBMEdge < FlEdge:\n",
    "            changeY *= -1\n",
    "\n",
    "    if zBMEdge > BEdge or zFMEdge < FrEdge:\n",
    "            changeZ *= -1 \n",
    "\n",
    "    marble.pos = vector(xPos,yPos,zPos)"
   ]
  },
  {
   "cell_type": "markdown",
   "metadata": {},
   "source": [
    "## Animating 3D objects by  changing size"
   ]
  },
  {
   "cell_type": "markdown",
   "metadata": {},
   "source": [
    "When using vpython, we might want to use create a piston witht the code shown below"
   ]
  },
  {
   "cell_type": "code",
   "execution_count": null,
   "metadata": {},
   "outputs": [],
   "source": [
    "piston = cylinder(radius=1, length=3, color=color.red, opacity=0.25)\n",
    "\n",
    "while True:\n",
    "    for L in range(1,6):\n",
    "        rate(5)\n",
    "        piston.length = L\n",
    "    for L in range(6,1,-1):\n",
    "        rate(5)\n",
    "        piston.length = L"
   ]
  },
  {
   "cell_type": "markdown",
   "metadata": {},
   "source": [
    "However, the code above is quite choppy, thus to solve this we can use the numpy library's range function `.linspace()`, this will cause the animation to be smoother by increating the number of steps to 1000 and increasing the `rate()` to accomodate for this."
   ]
  },
  {
   "cell_type": "markdown",
   "metadata": {},
   "source": [
    "**NUMBER OF STEPS CANNOT BE NEGATIVE**"
   ]
  },
  {
   "cell_type": "code",
   "execution_count": null,
   "metadata": {},
   "outputs": [],
   "source": [
    "while True:\n",
    "    for L in np.linspace(1,6,1000):\n",
    "        rate(50)\n",
    "        piston.length = L\n",
    "    for L in np.linspace(6,1,1000):\n",
    "        rate(50)\n",
    "        piston.length = L"
   ]
  },
  {
   "cell_type": "markdown",
   "metadata": {},
   "source": [
    "We can use this same concept on other attributes of an object, example the radius of a sphere, the opacity of an object etc."
   ]
  },
  {
   "cell_type": "code",
   "execution_count": null,
   "metadata": {},
   "outputs": [],
   "source": [
    "while True:\n",
    "    for o in np.linspace(0,1,100):\n",
    "        rate(50)\n",
    "        piston.opacity = o\n",
    "    for o in np.linspace(1,0,100):\n",
    "        rate(50)\n",
    "        piston.opacity = o"
   ]
  }
 ],
 "metadata": {
  "kernelspec": {
   "display_name": "Python 3",
   "language": "python",
   "name": "python3"
  },
  "language_info": {
   "codemirror_mode": {
    "name": "ipython",
    "version": 3
   },
   "file_extension": ".py",
   "mimetype": "text/x-python",
   "name": "python",
   "nbconvert_exporter": "python",
   "pygments_lexer": "ipython3",
   "version": "3.12.6"
  }
 },
 "nbformat": 4,
 "nbformat_minor": 2
}
