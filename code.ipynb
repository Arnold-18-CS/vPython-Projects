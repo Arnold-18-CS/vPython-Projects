{
 "cells": [
  {
   "cell_type": "markdown",
   "metadata": {},
   "source": [
    "# VPYTHON CODES\n",
    "\n",
    "File containing code for different Vpython scenarios"
   ]
  },
  {
   "cell_type": "markdown",
   "metadata": {},
   "source": [
    "Imports needed"
   ]
  },
  {
   "cell_type": "code",
   "execution_count": 1,
   "metadata": {},
   "outputs": [
    {
     "data": {
      "text/html": [
       "<div id=\"glowscript\" class=\"glowscript\"></div>"
      ],
      "text/plain": [
       "<IPython.core.display.HTML object>"
      ]
     },
     "metadata": {},
     "output_type": "display_data"
    },
    {
     "data": {
      "application/javascript": "if (typeof Jupyter !== \"undefined\") { window.__context = { glowscript_container: $(\"#glowscript\").removeAttr(\"id\")};}else{ element.textContent = ' ';}",
      "text/plain": [
       "<IPython.core.display.Javascript object>"
      ]
     },
     "metadata": {},
     "output_type": "display_data"
    }
   ],
   "source": [
    "from vpython import *\n",
    "from time import *\n"
   ]
  },
  {
   "cell_type": "markdown",
   "metadata": {},
   "source": [
    "Setting up the canvas in use"
   ]
  },
  {
   "cell_type": "code",
   "execution_count": null,
   "metadata": {},
   "outputs": [],
   "source": [
    "scene = canvas(width=1000, height=800, background=color.gray(0.5))"
   ]
  },
  {
   "cell_type": "markdown",
   "metadata": {},
   "source": [
    "Code to create a ball that changes color every 5 seconds"
   ]
  },
  {
   "cell_type": "code",
   "execution_count": null,
   "metadata": {},
   "outputs": [],
   "source": [
    "ball = sphere()\n",
    "sleep(5)\n",
    "ball.color = color.red\n",
    "sleep(5)\n",
    "ball.color = color.blue"
   ]
  },
  {
   "cell_type": "markdown",
   "metadata": {},
   "source": [
    "Code to make a cube with dimensions"
   ]
  },
  {
   "cell_type": "code",
   "execution_count": null,
   "metadata": {},
   "outputs": [],
   "source": [
    "# Making a 3D cube\n",
    "ruler = box(height=.2, width=3, length=30) "
   ]
  },
  {
   "cell_type": "markdown",
   "metadata": {},
   "source": [
    "Code to make a tube with specific radius"
   ]
  },
  {
   "cell_type": "code",
   "execution_count": null,
   "metadata": {
    "slideshow": {
     "slide_type": "notes"
    }
   },
   "outputs": [],
   "source": [
    "tube = cylinder(radius=2)"
   ]
  },
  {
   "cell_type": "markdown",
   "metadata": {},
   "source": [
    "Creating white room with a red marble in the center, using the `pos` parameter"
   ]
  },
  {
   "cell_type": "code",
   "execution_count": null,
   "metadata": {},
   "outputs": [],
   "source": [
    "floor       = box(pos=vector(0,-10,0), color=color.white, length=20, width=20, height=.3)\n",
    "ceiling     = box(pos=vector(0,10,0), color=color.white, length=20, width=20, height=.3)\n",
    "right_wall  = box(pos=vector(10,0,0), color=color.white, length=.2, width=20, height=20)\n",
    "left_wall   = box(pos=vector(-10,0,0), color=color.white, length=.2, width=20, height=20)\n",
    "back_wall   = box(pos=vector(0,0,-10), color=color.white, length=20, width=.3, height=20)\n",
    "\n",
    "marble      = sphere(color=color.red, radius=3)"
   ]
  },
  {
   "cell_type": "markdown",
   "metadata": {},
   "source": [
    "Adding animation onto the marble to make it oscillate left to right in the room"
   ]
  },
  {
   "cell_type": "code",
   "execution_count": null,
   "metadata": {},
   "outputs": [],
   "source": [
    "changeX = 0.1\n",
    "xPos = 0\n",
    "\n",
    "while True:\n",
    "    rate(20) # To change the speed of animation\n",
    "    \n",
    "    xPos = xPos + changeX\n",
    "\n",
    "    if xPos > 10 or xPos < -10:\n",
    "        changeX *= -1\n",
    "\n",
    "    marble.pos = vector(xPos,0,0)\n"
   ]
  }
 ],
 "metadata": {
  "kernelspec": {
   "display_name": "Python 3",
   "language": "python",
   "name": "python3"
  },
  "language_info": {
   "codemirror_mode": {
    "name": "ipython",
    "version": 3
   },
   "file_extension": ".py",
   "mimetype": "text/x-python",
   "name": "python",
   "nbconvert_exporter": "python",
   "pygments_lexer": "ipython3",
   "version": "3.12.6"
  }
 },
 "nbformat": 4,
 "nbformat_minor": 2
}
